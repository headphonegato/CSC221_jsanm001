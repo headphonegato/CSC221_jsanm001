{
  "nbformat": 4,
  "nbformat_minor": 0,
  "metadata": {
    "colab": {
      "provenance": [],
      "authorship_tag": "ABX9TyMRm4UsVF5mAqq6BSO7gzUk",
      "include_colab_link": true
    },
    "kernelspec": {
      "name": "python3",
      "display_name": "Python 3"
    },
    "language_info": {
      "name": "python"
    }
  },
  "cells": [
    {
      "cell_type": "markdown",
      "metadata": {
        "id": "view-in-github",
        "colab_type": "text"
      },
      "source": [
        "<a href=\"https://colab.research.google.com/github/headphonegato/CSC221_jsanm001/blob/main/Assignment3.ipynb\" target=\"_parent\"><img src=\"https://colab.research.google.com/assets/colab-badge.svg\" alt=\"Open In Colab\"/></a>"
      ]
    },
    {
      "cell_type": "code",
      "source": [
        "print (\"hello assignment number 3\") #try yourself number 2.1"
      ],
      "metadata": {
        "colab": {
          "base_uri": "https://localhost:8080/"
        },
        "id": "IEXUYFrj19eg",
        "outputId": "a2e1f4f5-9af4-4e11-8d64-049e86d7ddca"
      },
      "execution_count": null,
      "outputs": [
        {
          "output_type": "stream",
          "name": "stdout",
          "text": [
            "hello assignment number 3\n"
          ]
        }
      ]
    },
    {
      "cell_type": "code",
      "execution_count": null,
      "metadata": {
        "colab": {
          "base_uri": "https://localhost:8080/"
        },
        "id": "JXY_4fx6zwAS",
        "outputId": "2199ec35-16ae-4eaf-b467-774ccfc0b00e"
      },
      "outputs": [
        {
          "output_type": "stream",
          "name": "stdout",
          "text": [
            "hello assignment number 3\n"
          ]
        }
      ],
      "source": [
        "message = \"hello Assignment number 3\"  #try your self number 2.2\n",
        "print (message)\n"
      ]
    },
    {
      "cell_type": "code",
      "source": [
        "name = \"hello jonathan san martin today we will be learning python\"\n",
        "print(name) #try yourself 2.3"
      ],
      "metadata": {
        "colab": {
          "base_uri": "https://localhost:8080/"
        },
        "id": "9YzZ7NWW21Oi",
        "outputId": "f6045814-9997-48d1-f4da-b3f156a25430"
      },
      "execution_count": null,
      "outputs": [
        {
          "output_type": "stream",
          "name": "stdout",
          "text": [
            "hello jonathan san martin today we will be learning python\n"
          ]
        }
      ]
    },
    {
      "cell_type": "code",
      "source": [
        "name = \"jonathan san martin\"\n",
        "print (name.title()) #try yourself 2.4 1/3"
      ],
      "metadata": {
        "colab": {
          "base_uri": "https://localhost:8080/"
        },
        "id": "zAL0EFyQ4b5g",
        "outputId": "2bc5d5fd-9544-46b8-de29-876bf6ded172"
      },
      "execution_count": null,
      "outputs": [
        {
          "output_type": "stream",
          "name": "stdout",
          "text": [
            "Jonathan San Martin\n"
          ]
        }
      ]
    },
    {
      "cell_type": "code",
      "source": [
        "name = \"Jonathan San Martin\"\n",
        "print (name.upper()) #try yourself 2.4 2/3"
      ],
      "metadata": {
        "colab": {
          "base_uri": "https://localhost:8080/"
        },
        "id": "7Ii6WqZO4zpZ",
        "outputId": "e7b099e9-5b34-47f6-a9aa-b517707e6fef"
      },
      "execution_count": null,
      "outputs": [
        {
          "output_type": "stream",
          "name": "stdout",
          "text": [
            "JONATHAN SAN MARTIN\n"
          ]
        }
      ]
    },
    {
      "cell_type": "code",
      "source": [
        "name = \"Jonathan San Martin\"\n",
        "print (name.lower()) #try yourself 2.4 3/3"
      ],
      "metadata": {
        "colab": {
          "base_uri": "https://localhost:8080/"
        },
        "id": "j0pVRYej5_7x",
        "outputId": "28965794-0f49-465b-d36c-627dee0bdaac"
      },
      "execution_count": null,
      "outputs": [
        {
          "output_type": "stream",
          "name": "stdout",
          "text": [
            "jonathan san martin\n"
          ]
        }
      ]
    },
    {
      "cell_type": "code",
      "source": [
        "first_name = \"jonathan\"\n",
        "last_name = \"san martin\"\n",
        "full_name = f\"{first_name} {last_name}\"\n",
        "print (full_name) #test"
      ],
      "metadata": {
        "colab": {
          "base_uri": "https://localhost:8080/"
        },
        "id": "K7xZ7gx_B5nL",
        "outputId": "9d1b0f1c-53c3-4f27-ab76-5563385c60cf"
      },
      "execution_count": 82,
      "outputs": [
        {
          "output_type": "stream",
          "name": "stdout",
          "text": [
            "jonathan san martin\n"
          ]
        }
      ]
    },
    {
      "cell_type": "code",
      "source": [
        "first_name = \"Neil\"\n",
        "last_name = \"Armstromg\"\n",
        "full_name = f\"{first_name} {last_name}\"\n",
        "message = \" \\\"-That's one small step for a man, a giant leap for mankind.\\\"\"\n",
        "print (full_name + message) #try yourself 2.5"
      ],
      "metadata": {
        "colab": {
          "base_uri": "https://localhost:8080/"
        },
        "id": "B_TZqOGED7uo",
        "outputId": "74904832-4126-4512-cc25-d704fa35125a"
      },
      "execution_count": 93,
      "outputs": [
        {
          "output_type": "stream",
          "name": "stdout",
          "text": [
            "Neil Armstromg \"-That's one small step for a man, a giant leap for mankind.\"\n"
          ]
        }
      ]
    },
    {
      "cell_type": "code",
      "source": [
        "famous_person = \"Neil Armstrong\"\n",
        "full_name = f\"{famous_person}\"\n",
        "message = \" \\\"-That's one small step for a man, a giant leap for mankind.\\\"\"\n",
        "print (full_name + message)   #try yourself 2.6"
      ],
      "metadata": {
        "colab": {
          "base_uri": "https://localhost:8080/"
        },
        "id": "EICs_TNEG-mk",
        "outputId": "9d5f0b16-d5de-47e8-fe99-cbc951946e2d"
      },
      "execution_count": 95,
      "outputs": [
        {
          "output_type": "stream",
          "name": "stdout",
          "text": [
            "Neil Armstrong \"-That's one small step for a man, a giant leap for mankind.\"\n"
          ]
        }
      ]
    },
    {
      "cell_type": "code",
      "source": [
        "print(\"\\thomework\\n\\thomework 1\\n\\thomework 2\") #test"
      ],
      "metadata": {
        "colab": {
          "base_uri": "https://localhost:8080/"
        },
        "id": "g5WTzUeXHe2x",
        "outputId": "00619835-35ad-42db-9e79-92394dfbce82"
      },
      "execution_count": 101,
      "outputs": [
        {
          "output_type": "stream",
          "name": "stdout",
          "text": [
            "\thomework\n",
            "\thomework 1\n",
            "\thomework 2\n"
          ]
        }
      ]
    },
    {
      "cell_type": "code",
      "source": [
        "favorite_language = 'python '\n",
        "favorite_language.rstrip() #test"
      ],
      "metadata": {
        "colab": {
          "base_uri": "https://localhost:8080/",
          "height": 36
        },
        "id": "pp_vDx-rJ6Wo",
        "outputId": "5772ab42-05a2-4894-cdae-4be1d1967216"
      },
      "execution_count": 104,
      "outputs": [
        {
          "output_type": "execute_result",
          "data": {
            "text/plain": [
              "'python'"
            ],
            "application/vnd.google.colaboratory.intrinsic+json": {
              "type": "string"
            }
          },
          "metadata": {},
          "execution_count": 104
        }
      ]
    },
    {
      "cell_type": "code",
      "source": [
        "print(\"\\tplaylist#1\\n\\tplaylist#2\\n\\tplaylist#3 \") #2.7 1/2"
      ],
      "metadata": {
        "colab": {
          "base_uri": "https://localhost:8080/"
        },
        "id": "gqXT4LGPKr5e",
        "outputId": "a7bb7d7b-9169-4b83-980e-0525d8a588d8"
      },
      "execution_count": 112,
      "outputs": [
        {
          "output_type": "stream",
          "name": "stdout",
          "text": [
            "\tplaylist#1\n",
            "\tplaylist#2\n",
            "\tplaylist#3 \n"
          ]
        }
      ]
    },
    {
      "cell_type": "code",
      "source": [
        "name_given= 'jonathan '\n",
        "name_given.rstrip() #2.7 2/2"
      ],
      "metadata": {
        "colab": {
          "base_uri": "https://localhost:8080/",
          "height": 36
        },
        "id": "0vj9-nTjMAq4",
        "outputId": "a6ce8278-24cf-4026-f2ea-ce5a5a9dde02"
      },
      "execution_count": 115,
      "outputs": [
        {
          "output_type": "execute_result",
          "data": {
            "text/plain": [
              "'jonathan'"
            ],
            "application/vnd.google.colaboratory.intrinsic+json": {
              "type": "string"
            }
          },
          "metadata": {},
          "execution_count": 115
        }
      ]
    },
    {
      "cell_type": "code",
      "source": [
        "filename = \"python_notes.txt\"\n",
        "print(filename.removesuffix(\".txt\"))  #try yourself 2.8"
      ],
      "metadata": {
        "colab": {
          "base_uri": "https://localhost:8080/"
        },
        "id": "cAvFcV-xMWNB",
        "outputId": "020f06f2-77f1-44d1-8f0a-c8ff04f85ff7"
      },
      "execution_count": 116,
      "outputs": [
        {
          "output_type": "stream",
          "name": "stdout",
          "text": [
            "python_notes\n"
          ]
        }
      ]
    },
    {
      "cell_type": "code",
      "source": [
        "print (4+4)\n",
        "#try yourself 1/4"
      ],
      "metadata": {
        "colab": {
          "base_uri": "https://localhost:8080/"
        },
        "id": "s3xWqb30PKtM",
        "outputId": "85dd4217-ba2c-4587-e81c-9fbee8066851"
      },
      "execution_count": 119,
      "outputs": [
        {
          "output_type": "stream",
          "name": "stdout",
          "text": [
            "8\n"
          ]
        }
      ]
    },
    {
      "cell_type": "code",
      "source": [
        "print (10-2)"
      ],
      "metadata": {
        "colab": {
          "base_uri": "https://localhost:8080/"
        },
        "id": "uUc85oK3RnN-",
        "outputId": "28bf324c-6bba-4812-b1a8-916e34446a55"
      },
      "execution_count": 120,
      "outputs": [
        {
          "output_type": "stream",
          "name": "stdout",
          "text": [
            "8\n"
          ]
        }
      ]
    },
    {
      "cell_type": "code",
      "source": [
        "print (16/2)"
      ],
      "metadata": {
        "colab": {
          "base_uri": "https://localhost:8080/"
        },
        "id": "QCfJzyZPRx2G",
        "outputId": "283d4e71-a55b-4d23-926f-4edaacd9cb5a"
      },
      "execution_count": 121,
      "outputs": [
        {
          "output_type": "stream",
          "name": "stdout",
          "text": [
            "8.0\n"
          ]
        }
      ]
    },
    {
      "cell_type": "code",
      "source": [
        "print (4*2)"
      ],
      "metadata": {
        "colab": {
          "base_uri": "https://localhost:8080/"
        },
        "id": "-xJimek1R4BB",
        "outputId": "70c62e87-5585-4afe-db7f-1fde6ff3fc0e"
      },
      "execution_count": 122,
      "outputs": [
        {
          "output_type": "stream",
          "name": "stdout",
          "text": [
            "8\n"
          ]
        }
      ]
    },
    {
      "cell_type": "code",
      "source": [
        "jonathan_number = 5\n",
        "print (jonathan_number) #try yourself 2.10"
      ],
      "metadata": {
        "colab": {
          "base_uri": "https://localhost:8080/"
        },
        "id": "hP5g3CP8SbCV",
        "outputId": "c1ce4887-72bf-43a9-93c5-a3e3bb47b929"
      },
      "execution_count": 130,
      "outputs": [
        {
          "output_type": "stream",
          "name": "stdout",
          "text": [
            "5\n"
          ]
        }
      ]
    },
    {
      "cell_type": "code",
      "source": [
        "import this #try yourself 2.11"
      ],
      "metadata": {
        "colab": {
          "base_uri": "https://localhost:8080/"
        },
        "id": "hF9DgbCWOV0D",
        "outputId": "db4f9214-56fb-4c55-cf89-5a5ed797ef09"
      },
      "execution_count": 118,
      "outputs": [
        {
          "output_type": "stream",
          "name": "stdout",
          "text": [
            "The Zen of Python, by Tim Peters\n",
            "\n",
            "Beautiful is better than ugly.\n",
            "Explicit is better than implicit.\n",
            "Simple is better than complex.\n",
            "Complex is better than complicated.\n",
            "Flat is better than nested.\n",
            "Sparse is better than dense.\n",
            "Readability counts.\n",
            "Special cases aren't special enough to break the rules.\n",
            "Although practicality beats purity.\n",
            "Errors should never pass silently.\n",
            "Unless explicitly silenced.\n",
            "In the face of ambiguity, refuse the temptation to guess.\n",
            "There should be one-- and preferably only one --obvious way to do it.\n",
            "Although that way may not be obvious at first unless you're Dutch.\n",
            "Now is better than never.\n",
            "Although never is often better than *right* now.\n",
            "If the implementation is hard to explain, it's a bad idea.\n",
            "If the implementation is easy to explain, it may be a good idea.\n",
            "Namespaces are one honking great idea -- let's do more of those!\n"
          ]
        }
      ]
    },
    {
      "cell_type": "code",
      "source": [],
      "metadata": {
        "id": "h0EACrAiOweZ"
      },
      "execution_count": null,
      "outputs": []
    }
  ]
}