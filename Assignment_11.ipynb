{
  "nbformat": 4,
  "nbformat_minor": 0,
  "metadata": {
    "colab": {
      "provenance": [],
      "authorship_tag": "ABX9TyMcBXeEuP0w+Hq6D/d+TvUp",
      "include_colab_link": true
    },
    "kernelspec": {
      "name": "python3",
      "display_name": "Python 3"
    },
    "language_info": {
      "name": "python"
    }
  },
  "cells": [
    {
      "cell_type": "markdown",
      "metadata": {
        "id": "view-in-github",
        "colab_type": "text"
      },
      "source": [
        "<a href=\"https://colab.research.google.com/github/headphonegato/CSC221_jsanm001/blob/main/Assignment_11.ipynb\" target=\"_parent\"><img src=\"https://colab.research.google.com/assets/colab-badge.svg\" alt=\"Open In Colab\"/></a>"
      ]
    },
    {
      "cell_type": "code",
      "execution_count": null,
      "metadata": {
        "id": "hO1SA5x1UU-g"
      },
      "outputs": [],
      "source": [
        "class Dog:\n",
        "\n",
        "  def __init__ (self, name, age):\n",
        "    self.name = name\n",
        "    self.age = age\n",
        "\n",
        "  def sit(self):\n",
        "    print(f\"{self.name}' is now sitting\")\n",
        "  def roll_over(self):\n",
        "    print(f\"{self.name} has rolled over\")\n",
        "\n",
        "  #example number 1"
      ]
    },
    {
      "cell_type": "code",
      "source": [
        "class Dog:\n",
        "  def __init__(self, name, age):\n",
        "    self.name = name\n",
        "    self.age = age\n",
        "\n",
        "  def sit(self):\n",
        "    print(f\"{self.name} is now sitting\")\n",
        "\n",
        "  def roll_over(self):\n",
        "    print(f\"{self.name} has rolled over\")\n",
        "\n",
        "my_dog = Dog('Willie', 6)\n",
        "print(f\"My dog's name is {my_dog.name}.\")\n",
        "print(f\"My dog is {my_dog.age} years old.\")\n",
        "\n",
        "#example 2\n"
      ],
      "metadata": {
        "colab": {
          "base_uri": "https://localhost:8080/"
        },
        "id": "MFjHbusfXd9O",
        "outputId": "527aae48-5c82-45c3-92b2-7cff0dbecad1"
      },
      "execution_count": null,
      "outputs": [
        {
          "output_type": "stream",
          "name": "stdout",
          "text": [
            "My dog's name is Willie.\n",
            "My dog is 6 years old.\n"
          ]
        }
      ]
    },
    {
      "cell_type": "code",
      "source": [
        "class Dog:\n",
        "  def __init__(self, name, age):\n",
        "    self.name = name\n",
        "    self.age = age\n",
        "\n",
        "  def sit(self):\n",
        "    print(f\"{self.name} is now sitting\")\n",
        "\n",
        "  def roll_over(self):\n",
        "    print(f\"{self.name} has rolled over\")\n",
        "\n",
        "my_dog = Dog('Willie', 6)\n",
        "your_dog = Dog('Lucy', 3)\n",
        "print(f\"My dog's name is {my_dog.name}.\")\n",
        "print(f\"My dog is {my_dog.age} years old.\")\n",
        "my_dog.sit()\n",
        "print(f\"\\nYour dog's name is {your_dog.name}.\")\n",
        "print(f\"Your dog is {your_dog.age} years old.\")\n",
        "your_dog.sit()\n",
        "\n",
        "\n",
        "#example 3"
      ],
      "metadata": {
        "colab": {
          "base_uri": "https://localhost:8080/"
        },
        "id": "XATUrN1IZF6_",
        "outputId": "9a8aaefc-c5e1-40c9-83a5-6d1932852a2f"
      },
      "execution_count": null,
      "outputs": [
        {
          "output_type": "stream",
          "name": "stdout",
          "text": [
            "My dog's name is Willie.\n",
            "My dog is 6 years old.\n",
            "Willie is now sitting\n",
            "\n",
            "Your dog's name is Lucy.\n",
            "Your dog is 3 years old.\n",
            "Lucy is now sitting\n"
          ]
        }
      ]
    },
    {
      "cell_type": "code",
      "source": [
        "class Restaurant:\n",
        "\n",
        "    def __init__(self, name, cuisine_type):\n",
        "        self.name = name.title()\n",
        "        self.cuisine_type = cuisine_type\n",
        "\n",
        "    def describe_restaurant(self):\n",
        "        msg = f\"{self.name} serves wonderful {self.cuisine_type}.\"\n",
        "        print(f\"\\n{msg}\")\n",
        "\n",
        "    def open_restaurant(self):\n",
        "        msg = f\"{self.name} is open. Come on in!\"\n",
        "        print(f\"\\n{msg}\")\n",
        "\n",
        "restaurant = Restaurant('Rebelto', 'Steak')\n",
        "print(restaurant.name)\n",
        "print(restaurant.cuisine_type)\n",
        "\n",
        "restaurant.describe_restaurant()\n",
        "restaurant.open_restaurant()\n",
        "\n",
        "\n",
        "\n",
        "#try it yourself 1"
      ],
      "metadata": {
        "colab": {
          "base_uri": "https://localhost:8080/"
        },
        "id": "v3b45q-JZjub",
        "outputId": "f5a962e4-f632-4a92-badc-11795f0a3721"
      },
      "execution_count": null,
      "outputs": [
        {
          "output_type": "stream",
          "name": "stdout",
          "text": [
            "Rebelto\n",
            "Steak\n",
            "\n",
            "Rebelto serves wonderful Steak.\n",
            "\n",
            "Rebelto is open. Come on in!\n"
          ]
        }
      ]
    },
    {
      "cell_type": "code",
      "source": [
        "class Restaurant:\n",
        "    def __init__(self, name, cuisine_type):\n",
        "        self.name = name.title()\n",
        "        self.cuisine_type = cuisine_type\n",
        "\n",
        "    def describe_restaurant(self):\n",
        "        msg = f\"{self.name} serves wonderful {self.cuisine_type}.\"\n",
        "        print(f\"\\n{msg}\")\n",
        "\n",
        "    def open_restaurant(self):\n",
        "        msg = f\"{self.name} is open. Come on in!\"\n",
        "        print(f\"\\n{msg}\")\n",
        "\n",
        "\n",
        "\n",
        "\n",
        "\n",
        "Rebelto = Restaurant('Rebelto', 'Steak')\n",
        "Rebelto.describe_restaurant()\n",
        "\n",
        "Ethernet = Restaurant(\"Ethernet\", 'Burger')\n",
        "Ethernet.describe_restaurant()\n",
        "\n",
        "console = Restaurant('Cooked on Console', 'hibachi')\n",
        "console.describe_restaurant()\n",
        "\n",
        "\n",
        "#Try it yourself 2"
      ],
      "metadata": {
        "colab": {
          "base_uri": "https://localhost:8080/"
        },
        "id": "UQjBomS1nqlD",
        "outputId": "aa0904a0-7969-4840-ffb2-525db2ef6206"
      },
      "execution_count": null,
      "outputs": [
        {
          "output_type": "stream",
          "name": "stdout",
          "text": [
            "\n",
            "Rebelto serves wonderful Steak.\n",
            "\n",
            "Ethernet serves wonderful Burger.\n",
            "\n",
            "Cooked On Console serves wonderful hibachi.\n"
          ]
        }
      ]
    },
    {
      "cell_type": "code",
      "source": [
        "class User:\n",
        "  def __init__(self, first_name, last_name, username, email, location):\n",
        "    self.first_name = first_name.title()\n",
        "    self.last_name = last_name.title()\n",
        "    self.username = username\n",
        "    self.email = email\n",
        "    self.location = location.title()\n",
        "\n",
        "  def describe_user(self):\n",
        "    print(f\"\\n{self.first_name} {self.last_name}\")\n",
        "    print(f\"  Username: {self.username}\")\n",
        "    print(f\"  Email: {self.email}\")\n",
        "    print(f\"  Location: {self.location}\")\n",
        "\n",
        "  def greet_user(self):\n",
        "    print(f\"\\nWelcome back, {self.username}!\")\n",
        "\n",
        "Jonathan = User('Jonathan', 'San Martin', 'jsanm001', 'jsanm001@plattsburgh.edu', 'Plttsburgh,NY')\n",
        "Jonathan.describe_user()\n",
        "Jonathan.greet_user()\n",
        "\n",
        "Mark = User('Mark', 'Zukerberg', 'Meta', 'metaquest@gmail.com', 'CA')\n",
        "Mark.describe_user()\n",
        "Mark.greet_user()\n",
        "\n",
        "#try it yourself  3"
      ],
      "metadata": {
        "id": "J9ZGxvzS6WCK",
        "colab": {
          "base_uri": "https://localhost:8080/"
        },
        "outputId": "e295da67-6bb7-42b2-a07f-889690b2d86e"
      },
      "execution_count": null,
      "outputs": [
        {
          "output_type": "stream",
          "name": "stdout",
          "text": [
            "\n",
            "Jonathan San Martin\n",
            "  Username: jsanm001\n",
            "  Email: jsanm001@plattsburgh.edu\n",
            "  Location: Plttsburgh,Ny\n",
            "\n",
            "Welcome back, jsanm001!\n",
            "\n",
            "Mark Zukerberg\n",
            "  Username: Meta\n",
            "  Email: metaquest@gmail.com\n",
            "  Location: Ca\n",
            "\n",
            "Welcome back, Meta!\n"
          ]
        }
      ]
    },
    {
      "cell_type": "code",
      "source": [
        "class Car:\n",
        " def __init__(self, make, model, year):\n",
        "  self.make = make\n",
        "  self.model = model\n",
        "  self.year = year\n",
        "\n",
        " def get_descriptive_name(self):\n",
        "  long_name = f\"{self.year} {self.make} {self.model}\"\n",
        "  return long_name.title()\n",
        "\n",
        "my_new_car = Car('audi', 'a4', 2024)\n",
        "print(my_new_car.get_descriptive_name())\n",
        "\n",
        "# example 4"
      ],
      "metadata": {
        "id": "AB_rN04Kvrf8",
        "colab": {
          "base_uri": "https://localhost:8080/"
        },
        "outputId": "930d9068-1e72-47bf-ac99-a67bbbb6a35a"
      },
      "execution_count": null,
      "outputs": [
        {
          "output_type": "stream",
          "name": "stdout",
          "text": [
            "2024 Audi A4\n"
          ]
        }
      ]
    },
    {
      "cell_type": "code",
      "source": [
        "class Car:\n",
        "  def __init__(self, make, model, year):\n",
        "    self.make = make\n",
        "    self.model = model\n",
        "    self.year = year\n",
        "    self.odometer_reading = 0\n",
        "\n",
        "  def get_descriptive_name(self):\n",
        "    long_name = f\"{self.year} {self.make} {self.model}\"\n",
        "    return long_name.title()\n",
        "\n",
        "  def read_odometer(self):\n",
        "   print(f\"This car has {self.odometer_reading} miles on it.\")\n",
        "\n",
        "my_new_car = Car('audi', 'a4', 2024)\n",
        "print(my_new_car.get_descriptive_name())\n",
        "my_new_car.read_odometer()\n",
        " #example 5"
      ],
      "metadata": {
        "colab": {
          "base_uri": "https://localhost:8080/"
        },
        "id": "ytFU1l9PQuJu",
        "outputId": "fee82a5b-24b0-4255-abc8-09dd7215ff88"
      },
      "execution_count": null,
      "outputs": [
        {
          "output_type": "stream",
          "name": "stdout",
          "text": [
            "2024 Audi A4\n",
            "This car has 0 miles on it.\n"
          ]
        }
      ]
    },
    {
      "cell_type": "code",
      "source": [
        "class Car:\n",
        "  my_new_car = Car('audi', 'a4', 2024)\n",
        "  print(my_new_car.get_descriptive_name())\n",
        "  my_new_car.odometer_reading = 23\n",
        "  my_new_car.read_odometer()\n",
        "\n",
        "  #example 6"
      ],
      "metadata": {
        "colab": {
          "base_uri": "https://localhost:8080/"
        },
        "id": "tG8j2aVHSH9c",
        "outputId": "72f3629d-6a39-437d-e56d-25625114ba6d"
      },
      "execution_count": null,
      "outputs": [
        {
          "output_type": "stream",
          "name": "stdout",
          "text": [
            "2024 Audi A4\n",
            "This car has 23 miles on it.\n"
          ]
        }
      ]
    },
    {
      "cell_type": "code",
      "source": [
        "class Restaurant:\n",
        "    def __init__(self, name, cuisine_type):\n",
        "        self.name = name\n",
        "        self.cuisine_type = cuisine_type\n",
        "\n",
        "    def describe_restaurant(self):\n",
        "        print(f\"Welcome to {self.name}\")\n",
        "\n",
        "class IceCreamStand(Restaurant):\n",
        "    def __init__(self, name, cuisine_type='ice_cream'):\n",
        "        super().__init__(name, cuisine_type)\n",
        "        self.flavors = []\n",
        "\n",
        "    def show_flavors(self):\n",
        "        print(\"\\nWe have these flavors available Today:\")\n",
        "        for flavor in self.flavors:\n",
        "            print(f\"{flavor.title()}\")\n",
        "\n",
        "jons_icecream = IceCreamStand('Jons Ice Cream')\n",
        "jons_icecream.flavors = ['vanilla', 'chocolate', 'mint chocolate chip']\n",
        "\n",
        "jons_icecream.describe_restaurant()\n",
        "jons_icecream.show_flavors()\n",
        "\n",
        "#try it yourself 6\n"
      ],
      "metadata": {
        "id": "Crq6olKdTzFG",
        "colab": {
          "base_uri": "https://localhost:8080/"
        },
        "outputId": "ceba9bde-54b8-4884-e292-4a74c039ebc9"
      },
      "execution_count": null,
      "outputs": [
        {
          "output_type": "stream",
          "name": "stdout",
          "text": [
            "Welcome to Jons Ice Cream\n",
            "\n",
            "We have the following flavors available:\n",
            "Vanilla\n",
            "Chocolate\n",
            "Mint Chocolate Chip\n"
          ]
        }
      ]
    },
    {
      "cell_type": "code",
      "source": [
        "class User:\n",
        "  def __init__(self, first_name, last_name, username, email, location):\n",
        "    self.first_name = first_name.title()\n",
        "    self.last_name = last_name.title()\n",
        "    self.username = username\n",
        "    self.email = email\n",
        "    self.location = location.title()\n",
        "\n",
        "  def describe_user(self):\n",
        "    print(f\"\\n{self.first_name} {self.last_name}\")\n",
        "    print(f\"  Username: {self.username}\")\n",
        "    print(f\"  Email: {self.email}\")\n",
        "    print(f\"  Location: {self.location}\")\n",
        "\n",
        "  def greet_user(self):\n",
        "    print(f\"\\nWelcome back, {self.username}!\")\n",
        "\n",
        "\n",
        "class Admin(User):\n",
        "\n",
        "    def __init__(self, first_name, last_name, username, email, location):\n",
        "        super().__init__(first_name, last_name, username, email, location)\n",
        "        self.privileges = []\n",
        "\n",
        "    def show_privileges(self):\n",
        "        print(\"\\nPrivileges:\")\n",
        "        for privilege in self.privileges:\n",
        "            print(f\"- {privilege}\")\n",
        "\n",
        "\n",
        "jonathan = Admin('jonathan', 'San Martin', 'jsanm001', 'jsanm001@plattsburgh.edu', 'NY')\n",
        "jonathan.describe_user()\n",
        "\n",
        "jonathan.privileges = [\n",
        "    'can ADD POST',\n",
        "    'can DELETE POST',\n",
        "    'can BAN accounts',\n",
        "    ]\n",
        "\n",
        "jonathan.show_privileges()\n",
        "#EXAMPLE 7"
      ],
      "metadata": {
        "colab": {
          "base_uri": "https://localhost:8080/"
        },
        "id": "S8jEkvJEcu6n",
        "outputId": "bf3d448a-08a9-4757-ea0c-1e78959f0868"
      },
      "execution_count": 8,
      "outputs": [
        {
          "output_type": "stream",
          "name": "stdout",
          "text": [
            "\n",
            "Jonathan San Martin\n",
            "  Username: jsanm001\n",
            "  Email: jsanm001@plattsburgh.edu\n",
            "  Location: Ny\n",
            "\n",
            "Privileges:\n",
            "- can ADD POST\n",
            "- can DELETE POST\n",
            "- can BAN accounts\n"
          ]
        }
      ]
    }
  ]
}