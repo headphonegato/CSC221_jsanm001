{
  "nbformat": 4,
  "nbformat_minor": 0,
  "metadata": {
    "colab": {
      "provenance": [],
      "authorship_tag": "ABX9TyNPg1+H3js8KltTQIKIUpF4",
      "include_colab_link": true
    },
    "kernelspec": {
      "name": "python3",
      "display_name": "Python 3"
    },
    "language_info": {
      "name": "python"
    }
  },
  "cells": [
    {
      "cell_type": "markdown",
      "metadata": {
        "id": "view-in-github",
        "colab_type": "text"
      },
      "source": [
        "<a href=\"https://colab.research.google.com/github/headphonegato/CSC221_jsanm001/blob/main/Assignment6.ipynb\" target=\"_parent\"><img src=\"https://colab.research.google.com/assets/colab-badge.svg\" alt=\"Open In Colab\"/></a>"
      ]
    },
    {
      "cell_type": "code",
      "source": [
        "colors = ['blue','black', 'red', 'orange ']\n",
        "for color in colors:\n",
        "  print(color)"
      ],
      "metadata": {
        "colab": {
          "base_uri": "https://localhost:8080/"
        },
        "id": "NfgxGTsjkVgt",
        "outputId": "bc233829-2434-4898-b56e-8ef0a45abd28"
      },
      "execution_count": 6,
      "outputs": [
        {
          "output_type": "stream",
          "name": "stdout",
          "text": [
            "blue\n",
            "black\n",
            "red\n",
            "orange \n"
          ]
        }
      ]
    },
    {
      "cell_type": "code",
      "execution_count": 8,
      "metadata": {
        "colab": {
          "base_uri": "https://localhost:8080/"
        },
        "id": "OLpB62DCQMQw",
        "outputId": "9e4843a3-9f60-402e-a275-81194bfa3d48"
      },
      "outputs": [
        {
          "output_type": "stream",
          "name": "stdout",
          "text": [
            "Is color == 'blue'? I predict True.\n",
            "True\n",
            "\n",
            "Is color == 'black'? I predict False.\n",
            "False\n"
          ]
        }
      ],
      "source": [
        "color = 'blue'\n",
        "print(\"Is color == 'blue'? I predict True.\")\n",
        "print(color == 'blue')\n",
        "print(\"\\nIs color == 'black'? I predict False.\")\n",
        "print(color == 'black')   #try yourself 5.1"
      ]
    },
    {
      "cell_type": "code",
      "source": [
        "color = 'black'\n",
        "print(\"Is color == 'black'? I say True.\")\n",
        "print(color == 'black')\n",
        "# Try yourlsef 5.1 1/5 True statments"
      ],
      "metadata": {
        "colab": {
          "base_uri": "https://localhost:8080/"
        },
        "id": "ttJT7qe3rtBT",
        "outputId": "39b0955c-a352-47cf-eafa-72454002f67b"
      },
      "execution_count": 10,
      "outputs": [
        {
          "output_type": "stream",
          "name": "stdout",
          "text": [
            "Is color == 'black'? I say True.\n",
            "True\n"
          ]
        }
      ]
    },
    {
      "cell_type": "code",
      "source": [
        "color = 'Orange'\n",
        "print(\"Is color == 'Orange'? I say True.\")\n",
        "print(color == 'Orange')\n",
        "# Try yourlsef 5.1 2/5 True statments"
      ],
      "metadata": {
        "colab": {
          "base_uri": "https://localhost:8080/"
        },
        "id": "DeVfay7Bue1W",
        "outputId": "1116e705-0166-486f-b963-f154010b3100"
      },
      "execution_count": 11,
      "outputs": [
        {
          "output_type": "stream",
          "name": "stdout",
          "text": [
            "Is color == 'Orange'? I say True.\n",
            "True\n"
          ]
        }
      ]
    },
    {
      "cell_type": "code",
      "source": [
        "color = 'Yellow'\n",
        "print(\"Is color == 'Yellow'? I say True.\")\n",
        "print(color == 'Yellow')\n",
        "# Try yourlsef 5.1 3/5 True statments"
      ],
      "metadata": {
        "colab": {
          "base_uri": "https://localhost:8080/"
        },
        "id": "ZPiFvULCulfD",
        "outputId": "d2707a98-49b7-447b-8054-0b2a8d25fb6a"
      },
      "execution_count": 13,
      "outputs": [
        {
          "output_type": "stream",
          "name": "stdout",
          "text": [
            "Is color == 'Yellow'? I say True.\n",
            "True\n"
          ]
        }
      ]
    },
    {
      "cell_type": "code",
      "source": [
        "shape = 'rectangle'\n",
        "print(\"is shape == 'rectangle' I say true\")\n",
        "print(shape == 'rectangle') # Try yourlsef 5.1 4/5 True statments"
      ],
      "metadata": {
        "colab": {
          "base_uri": "https://localhost:8080/"
        },
        "id": "Saz3DcPlu0XO",
        "outputId": "38f1aa3a-0de5-4397-a8a5-70591164bbaf"
      },
      "execution_count": 15,
      "outputs": [
        {
          "output_type": "stream",
          "name": "stdout",
          "text": [
            "is shape == 'rectangle' I say true\n",
            "True\n"
          ]
        }
      ]
    },
    {
      "cell_type": "code",
      "source": [
        "book = 'fiction'\n",
        "print(\"is shape == 'fiction' I say it is True\")\n",
        "print(book == \"fiction\")     #Try yourself 5.1 5/5 True Statements"
      ],
      "metadata": {
        "colab": {
          "base_uri": "https://localhost:8080/"
        },
        "id": "SFx_K8KcvgC6",
        "outputId": "fac6ced0-5421-4510-f3fd-bb7bd20ebfa6"
      },
      "execution_count": 16,
      "outputs": [
        {
          "output_type": "stream",
          "name": "stdout",
          "text": [
            "is shape == 'fiction' I say it is True\n",
            "True\n"
          ]
        }
      ]
    },
    {
      "cell_type": "code",
      "source": [
        "color = 'black'\n",
        "print(\"Is color == 'black'? I predict True.\")\n",
        "print(color == 'black')\n",
        "print(\"\\nIs color == 'blue'? I predict False.\")\n",
        "print(color == 'blue')  #try yourse;f 5.1 1/5 False Statments"
      ],
      "metadata": {
        "colab": {
          "base_uri": "https://localhost:8080/"
        },
        "id": "Aepb8aagwDwk",
        "outputId": "a5ef7aa6-64ce-4ad1-803a-6fc3bc554f09"
      },
      "execution_count": 19,
      "outputs": [
        {
          "output_type": "stream",
          "name": "stdout",
          "text": [
            "Is color == 'black'? I predict True.\n",
            "True\n",
            "\n",
            "Is color == 'blue'? I predict False.\n",
            "False\n"
          ]
        }
      ]
    },
    {
      "cell_type": "code",
      "source": [
        "math = '5 + 4 = 9'\n",
        "print(\"Is math == '5 + 4 = 9'? I say it is completley True.\")\n",
        "print(math == '5 + 4 = 9')\n",
        "print(\"\\nIs math == '5 + 4 = 10'? I predict False.\")\n",
        "print(math == '5 + 4 = 10')    #try yourself  5.1 2/5 False Statements"
      ],
      "metadata": {
        "colab": {
          "base_uri": "https://localhost:8080/"
        },
        "id": "FiM8Zih9wfUk",
        "outputId": "47f7b401-dd9f-450b-e8e4-8b6df53d80a1"
      },
      "execution_count": 1,
      "outputs": [
        {
          "output_type": "stream",
          "name": "stdout",
          "text": [
            "Is math == '5 + 4 = 9'? I say it is completley True.\n",
            "True\n",
            "\n",
            "Is math == '5 + 4 = 10'? I predict False.\n",
            "False\n"
          ]
        }
      ]
    },
    {
      "cell_type": "code",
      "source": [
        "water_bottle = ('plastic')\n",
        "print(\"is water_bottle == 'plastic' I say that it is true\")\n",
        "print(water_bottle == 'plastic')\n",
        "print(\"\\nIs water_bottle == 'metal' I say False\")\n",
        "print(water_bottle == 'metal')\n",
        "#try yourself  5.1 3/5 False Statements"
      ],
      "metadata": {
        "colab": {
          "base_uri": "https://localhost:8080/"
        },
        "id": "9ExOFI5jxC6r",
        "outputId": "1e1beed2-7754-45eb-a323-30a8f5a32d5a"
      },
      "execution_count": 4,
      "outputs": [
        {
          "output_type": "stream",
          "name": "stdout",
          "text": [
            "is water_bottle == 'plastic' I say that it is true\n",
            "True\n",
            "\n",
            "Is water_bottle == 'metal' I say False\n",
            "False\n"
          ]
        }
      ]
    },
    {
      "cell_type": "code",
      "source": [
        "water = ('ocean')\n",
        "print(\"is water_bottle == 'ocean' I say that it is true\")\n",
        "print(water_bottle == 'ocean')\n",
        "print(\"\\nIs water_bottle == 'river' I say False\")\n",
        "print(water_bottle == 'river')\n",
        "#try yourself  5.1 4/5 False Statements"
      ],
      "metadata": {
        "colab": {
          "base_uri": "https://localhost:8080/"
        },
        "id": "ZP-mEOw0Y4Jg",
        "outputId": "b4648e8c-968d-4301-c590-e4ada7d8ef74"
      },
      "execution_count": 5,
      "outputs": [
        {
          "output_type": "stream",
          "name": "stdout",
          "text": [
            "is water_bottle == 'ocean' I say that it is true\n",
            "False\n",
            "\n",
            "Is water_bottle == 'river' I say False\n",
            "False\n"
          ]
        }
      ]
    },
    {
      "cell_type": "code",
      "source": [
        "animal = ('bear')\n",
        "print(\"is water_bottle == 'bear' I say that it is true\")\n",
        "print(water_bottle == 'bear')\n",
        "print(\"\\nIs water_bottle == 'shark' I say False\")\n",
        "print(water_bottle == 'shark')\n",
        "#try yourself  5.1 5/5 False Statements"
      ],
      "metadata": {
        "id": "aN3YZ_CuZL2c"
      },
      "execution_count": null,
      "outputs": []
    },
    {
      "cell_type": "code",
      "source": [
        "alien_color = 'green'\n",
        "\n",
        "if alien_color == 'green':\n",
        "    print(\"You just earned 5 points!\") #try yourself 5.3"
      ],
      "metadata": {
        "colab": {
          "base_uri": "https://localhost:8080/"
        },
        "id": "Df1Jcuo-ZTeV",
        "outputId": "7c629a92-f0f0-4144-dcb3-56ed07255ecd"
      },
      "execution_count": 6,
      "outputs": [
        {
          "output_type": "stream",
          "name": "stdout",
          "text": [
            "You just earned 5 points!\n"
          ]
        }
      ]
    },
    {
      "cell_type": "code",
      "source": [
        "alien_color = 'green'\n",
        "\n",
        "if alien_color == 'green':\n",
        "    print(\"You just earned 5 points!\")\n",
        "else:\n",
        "  print(\" you earned 10 points\") #try yourself 5.4 1/2"
      ],
      "metadata": {
        "colab": {
          "base_uri": "https://localhost:8080/"
        },
        "id": "kbpe0-cBjW3f",
        "outputId": "befd1b7d-6d30-4d69-d10b-0aa837b2ea9f"
      },
      "execution_count": 7,
      "outputs": [
        {
          "output_type": "stream",
          "name": "stdout",
          "text": [
            "You just earned 5 points!\n"
          ]
        }
      ]
    },
    {
      "cell_type": "code",
      "source": [
        "alien_color = 'red'\n",
        "\n",
        "if alien_color == 'green':\n",
        "    print(\"You just earned 5 points!\")\n",
        "else:\n",
        "  print(\" you earned 10 points\")   #try yourself 5.4 2/2"
      ],
      "metadata": {
        "colab": {
          "base_uri": "https://localhost:8080/"
        },
        "id": "qodWOfkQj4D-",
        "outputId": "1d29a17f-8b6f-4f83-c702-e264f3d2ed45"
      },
      "execution_count": 11,
      "outputs": [
        {
          "output_type": "stream",
          "name": "stdout",
          "text": [
            " you earned 10 points\n"
          ]
        }
      ]
    },
    {
      "cell_type": "code",
      "source": [
        "alien_color = 'red'\n",
        "\n",
        "if alien_color == 'green':\n",
        "    print(\"You just earned 5 points!\")\n",
        "elif alien_color == ('yellow'):\n",
        "    print(\" you earned 10 points\")\n",
        "else:\n",
        "   print(\"you have earned 15 points\")\n",
        "\n",
        "#try yourself 5.5"
      ],
      "metadata": {
        "colab": {
          "base_uri": "https://localhost:8080/"
        },
        "id": "uoSdh_JfkfIw",
        "outputId": "1f0dd8d8-da26-47e5-c743-b986cea0ccc9"
      },
      "execution_count": 16,
      "outputs": [
        {
          "output_type": "stream",
          "name": "stdout",
          "text": [
            "you have earned 15 points\n"
          ]
        }
      ]
    },
    {
      "cell_type": "code",
      "source": [
        "age = 18\n",
        "if age < 2:\n",
        "  print(\" you are a baby !\")\n",
        "elif age < 5:\n",
        "    print(\"You're a toddler!\")\n",
        "elif age < 10:\n",
        "    print(\"You're a kid!\")\n",
        "elif age < 13:\n",
        "    print(\"You're a teenager!\")\n",
        "elif age < 20:\n",
        "    print(\"You're an adult!\")\n",
        "else:\n",
        "    print(\"You're an elder!\")\n",
        "#try yourself 5.6"
      ],
      "metadata": {
        "colab": {
          "base_uri": "https://localhost:8080/"
        },
        "id": "paTk_q83lVAQ",
        "outputId": "b76d81c8-333c-4e9c-d25c-4244b7efc218"
      },
      "execution_count": 29,
      "outputs": [
        {
          "output_type": "stream",
          "name": "stdout",
          "text": [
            "You're an adult!\n"
          ]
        }
      ]
    },
    {
      "cell_type": "code",
      "source": [
        "voting_age = 9\n",
        "if voting_age < 10:\n",
        "  print('you are to young to vote')\n",
        "elif voting_age < 15:\n",
        "  print('you are getting closer to the age to vote')\n",
        "else:\n",
        "  print('you are now able to vote in the USA !')  #try yourself 5.13"
      ],
      "metadata": {
        "colab": {
          "base_uri": "https://localhost:8080/"
        },
        "id": "n05kjtGyuL60",
        "outputId": "587b5178-6bde-4381-e8b7-211a966c1dbe"
      },
      "execution_count": 43,
      "outputs": [
        {
          "output_type": "stream",
          "name": "stdout",
          "text": [
            "you are to young to vote\n"
          ]
        }
      ]
    }
  ]
}