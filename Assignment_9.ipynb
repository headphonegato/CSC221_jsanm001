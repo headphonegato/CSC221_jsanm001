{
  "nbformat": 4,
  "nbformat_minor": 0,
  "metadata": {
    "colab": {
      "provenance": [],
      "authorship_tag": "ABX9TyNB2d4Fk/q57v9I+paLFP9X",
      "include_colab_link": true
    },
    "kernelspec": {
      "name": "python3",
      "display_name": "Python 3"
    },
    "language_info": {
      "name": "python"
    }
  },
  "cells": [
    {
      "cell_type": "markdown",
      "metadata": {
        "id": "view-in-github",
        "colab_type": "text"
      },
      "source": [
        "<a href=\"https://colab.research.google.com/github/headphonegato/CSC221_jsanm001/blob/main/Assignment_9.ipynb\" target=\"_parent\"><img src=\"https://colab.research.google.com/assets/colab-badge.svg\" alt=\"Open In Colab\"/></a>"
      ]
    },
    {
      "cell_type": "code",
      "execution_count": 3,
      "metadata": {
        "colab": {
          "base_uri": "https://localhost:8080/"
        },
        "id": "Fi3rxhpetpMl",
        "outputId": "abc4e9ff-3e09-4a36-afd2-54c6c27b996b"
      },
      "outputs": [
        {
          "output_type": "stream",
          "name": "stdout",
          "text": [
            "Rise of the shield Hero is one of my favorite books.\n"
          ]
        }
      ],
      "source": [
        "def jonathansfavorite_book(title):\n",
        "    print(f\"{title} is one of my favorite books.\")\n",
        "jonathansfavorite_book('Rise of the shield Hero')"
      ]
    },
    {
      "cell_type": "code",
      "source": [
        "def make_shirt(size, message):\n",
        "    print(f\"\\nI'm going to make a {size} t-shirt.\")\n",
        "    print(f'It will say \"{message}\"')\n",
        "\n",
        "make_shirt('XL', 'I like to play minecraft')\n",
        "make_shirt(message=\"I dont like to play roblox\", size='small')"
      ],
      "metadata": {
        "colab": {
          "base_uri": "https://localhost:8080/"
        },
        "id": "7sPPOU6ovC4O",
        "outputId": "d1af9b1f-3965-4559-d418-2bfe24e1dd11"
      },
      "execution_count": 8,
      "outputs": [
        {
          "output_type": "stream",
          "name": "stdout",
          "text": [
            "\n",
            "I'm going to make a XL t-shirt.\n",
            "It will say \"I like to play minecraft\"\n",
            "\n",
            "I'm going to make a small t-shirt.\n",
            "It will say \"I dont like to play roblox\"\n"
          ]
        }
      ]
    },
    {
      "cell_type": "code",
      "source": [
        "def make_shirt(size, message):\n",
        "    print(f\"\\nI'm going to make a {size} t-shirt.\")\n",
        "    print(f'It will say \"{message}\"')\n",
        "\n",
        "make_shirt('large', 'I like to pyhton')\n",
        "make_shirt(message=\"I like c++\", size='medium')"
      ],
      "metadata": {
        "colab": {
          "base_uri": "https://localhost:8080/"
        },
        "id": "ChNfyuUfvaat",
        "outputId": "929f1aee-904b-42b4-9e13-1d090b7e3fef"
      },
      "execution_count": 7,
      "outputs": [
        {
          "output_type": "stream",
          "name": "stdout",
          "text": [
            "\n",
            "I'm going to make a XL t-shirt.\n",
            "It will say \"I like to pyhton\"\n",
            "\n",
            "I'm going to make a medium t-shirt.\n",
            "It will say \"I like c++\"\n"
          ]
        }
      ]
    },
    {
      "cell_type": "code",
      "source": [
        "def make_car(manufacturer, model, **options):\n",
        "    car_dict = {\n",
        "        'manufacturer': manufacturer.title(),\n",
        "        'model': model.title(),\n",
        "        }\n",
        "    for option, value in options.items():\n",
        "        car_dict[option] = value\n",
        "\n",
        "    return car_dict\n",
        "\n",
        "my_outback = make_car('subaru', 'outback', color='blue', tow_package=True)\n",
        "print(my_outback)\n",
        "\n",
        "my_old_accord = make_car('Toyota', 'camery', year=2023, color='blue',)\n",
        "print(my_old_accord)"
      ],
      "metadata": {
        "colab": {
          "base_uri": "https://localhost:8080/"
        },
        "id": "RIE8KNTq2AOu",
        "outputId": "d4c7bb0f-30f8-4929-9e98-36513a2e34ec"
      },
      "execution_count": 34,
      "outputs": [
        {
          "output_type": "stream",
          "name": "stdout",
          "text": [
            "{'manufacturer': 'Subaru', 'model': 'Outback', 'color': 'blue', 'tow_package': True}\n",
            "{'manufacturer': 'Toyota', 'model': 'Camery', 'year': 2023, 'color': 'blue'}\n"
          ]
        }
      ]
    }
  ]
}