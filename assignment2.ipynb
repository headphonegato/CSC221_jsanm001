{
  "nbformat": 4,
  "nbformat_minor": 0,
  "metadata": {
    "colab": {
      "provenance": [],
      "authorship_tag": "ABX9TyMqeNl8Z0JEFF/rVUNSc1jX",
      "include_colab_link": true
    },
    "kernelspec": {
      "name": "python3",
      "display_name": "Python 3"
    },
    "language_info": {
      "name": "python"
    }
  },
  "cells": [
    {
      "cell_type": "markdown",
      "metadata": {
        "id": "view-in-github",
        "colab_type": "text"
      },
      "source": [
        "<a href=\"https://colab.research.google.com/github/headphonegato/CSC221_jsanm001/blob/main/assignment2.ipynb\" target=\"_parent\"><img src=\"https://colab.research.google.com/assets/colab-badge.svg\" alt=\"Open In Colab\"/></a>"
      ]
    },
    {
      "cell_type": "code",
      "execution_count": 2,
      "metadata": {
        "colab": {
          "base_uri": "https://localhost:8080/"
        },
        "id": "txW7jvHsLCd5",
        "outputId": "d1375df4-67bb-47da-f365-db5bc43bd88d"
      },
      "outputs": [
        {
          "output_type": "stream",
          "name": "stdout",
          "text": [
            "test_1=100\n",
            "test_2 is [45, 100, 3]\n",
            "800\n",
            "[45, 100, 3, 45, 100, 3, 45, 100, 3, 45, 100, 3, 45, 100, 3, 45, 100, 3, 45, 100, 3, 45, 100, 3]\n",
            "300\n",
            "[45, 100, 3, 45, 100, 3, 45, 100, 3]\n"
          ]
        }
      ],
      "source": [
        "test_1 = 100\n",
        "test_2 = [45, 100, 3]\n",
        "\n",
        "print(f'{test_1=}')\n",
        "print('test_2 is', test_2)\n",
        "\n",
        "def doubler(x):\n",
        "    y = x * 8\n",
        "    return y\n",
        "\n",
        "print(doubler(test_1))\n",
        "print(doubler(test_2))\n",
        "\n",
        "class Wrapper:\n",
        "    def __init__(self, x):\n",
        "        self.x = x\n",
        "    def tripler(self):\n",
        "        y = self.x * 3\n",
        "        return y\n",
        "\n",
        "w1 = Wrapper(test_1)\n",
        "w2 = Wrapper(test_2)\n",
        "\n",
        "print(w1.tripler())\n",
        "print(w2.tripler())"
      ]
    }
  ]
}