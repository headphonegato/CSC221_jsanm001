{
  "nbformat": 4,
  "nbformat_minor": 0,
  "metadata": {
    "colab": {
      "provenance": [],
      "authorship_tag": "ABX9TyP0UUZmWdSN8Erp+XCqocgQ",
      "include_colab_link": true
    },
    "kernelspec": {
      "name": "python3",
      "display_name": "Python 3"
    },
    "language_info": {
      "name": "python"
    }
  },
  "cells": [
    {
      "cell_type": "markdown",
      "metadata": {
        "id": "view-in-github",
        "colab_type": "text"
      },
      "source": [
        "<a href=\"https://colab.research.google.com/github/headphonegato/CSC221_jsanm001/blob/main/Assignment_4.ipynb\" target=\"_parent\"><img src=\"https://colab.research.google.com/assets/colab-badge.svg\" alt=\"Open In Colab\"/></a>"
      ]
    },
    {
      "cell_type": "code",
      "source": [
        "bicycles = ['trek', 'cannondale', 'redline', 'specialized']\n",
        "print(bicycles)"
      ],
      "metadata": {
        "colab": {
          "base_uri": "https://localhost:8080/"
        },
        "id": "XOWfFuF537tV",
        "outputId": "da7a2b79-841f-4a1c-e02e-7727e5828d02"
      },
      "execution_count": 7,
      "outputs": [
        {
          "output_type": "stream",
          "name": "stdout",
          "text": [
            "['trek', 'cannondale', 'redline', 'specialized']\n"
          ]
        }
      ]
    },
    {
      "cell_type": "code",
      "source": [
        "bicycles = ['trek', 'cannondale', 'redline', 'specialized']\n",
        "print(bicycles[0])"
      ],
      "metadata": {
        "colab": {
          "base_uri": "https://localhost:8080/"
        },
        "id": "bhqTfGo34Eae",
        "outputId": "80bda8b0-b012-46ab-abfa-05ef1b20bcfd"
      },
      "execution_count": 8,
      "outputs": [
        {
          "output_type": "stream",
          "name": "stdout",
          "text": [
            "trek\n"
          ]
        }
      ]
    },
    {
      "cell_type": "code",
      "source": [
        "bicycles = ['trek', 'cannondale', 'redline', 'specialized']\n",
        "print(bicycles[0].title())"
      ],
      "metadata": {
        "colab": {
          "base_uri": "https://localhost:8080/"
        },
        "id": "d52cax3U4IQJ",
        "outputId": "c89bbc45-0590-41eb-f632-06c0e3b78be8"
      },
      "execution_count": 11,
      "outputs": [
        {
          "output_type": "stream",
          "name": "stdout",
          "text": [
            "Trek\n"
          ]
        }
      ]
    },
    {
      "cell_type": "code",
      "source": [
        "bicycles = ['trek', 'cannondale', 'redline', 'specialized']\n",
        "print(bicycles[1])\n",
        "print(bicycles[3])"
      ],
      "metadata": {
        "colab": {
          "base_uri": "https://localhost:8080/"
        },
        "id": "-z7HyXjX4Ytz",
        "outputId": "ea992a03-3aa6-42b8-9ff8-ed378e8e5867"
      },
      "execution_count": 12,
      "outputs": [
        {
          "output_type": "stream",
          "name": "stdout",
          "text": [
            "cannondale\n",
            "specialized\n"
          ]
        }
      ]
    },
    {
      "cell_type": "code",
      "source": [
        "bicycles = ['trek', 'cannondale', 'redline', 'specialized']\n",
        "print(bicycles[-1])"
      ],
      "metadata": {
        "colab": {
          "base_uri": "https://localhost:8080/"
        },
        "id": "UvB7H4XZ4cN4",
        "outputId": "11de4028-d287-46ce-8df5-b6301bdf00c7"
      },
      "execution_count": 13,
      "outputs": [
        {
          "output_type": "stream",
          "name": "stdout",
          "text": [
            "specialized\n"
          ]
        }
      ]
    },
    {
      "cell_type": "code",
      "source": [
        "bicycles = ['trek', 'cannondale', 'redline', 'specialized']\n",
        "message = f\"My first bicycle was a {bicycles[0].title()}.\"\n",
        "print(message)"
      ],
      "metadata": {
        "colab": {
          "base_uri": "https://localhost:8080/"
        },
        "id": "VgNKp6mq4lWX",
        "outputId": "e547ebc3-afa6-493c-fb4b-b57ee9e1a018"
      },
      "execution_count": 14,
      "outputs": [
        {
          "output_type": "stream",
          "name": "stdout",
          "text": [
            "My first bicycle was a Trek.\n"
          ]
        }
      ]
    },
    {
      "cell_type": "code",
      "execution_count": 3,
      "metadata": {
        "colab": {
          "base_uri": "https://localhost:8080/"
        },
        "id": "HyvvnQWR1D3A",
        "outputId": "5c52a2b9-5f17-46f7-ad9c-6f136edff6c1"
      },
      "outputs": [
        {
          "output_type": "stream",
          "name": "stdout",
          "text": [
            "Liam\n"
          ]
        }
      ],
      "source": [
        "names = ['Liam','Elijah','Bekir','Mahoney']\n",
        "print(names [0]) # Test yourself 3.1 1/4"
      ]
    },
    {
      "cell_type": "code",
      "source": [
        "names = ['Liam','Elijah','Bekir','Mahoney']\n",
        "print(names [1]) # Test yourself 3.1 2/4"
      ],
      "metadata": {
        "colab": {
          "base_uri": "https://localhost:8080/"
        },
        "id": "MvIRM0yF3KEA",
        "outputId": "fb4ee44f-84b0-4f1b-ab4c-82499f8e5531"
      },
      "execution_count": 4,
      "outputs": [
        {
          "output_type": "stream",
          "name": "stdout",
          "text": [
            "Elijah\n"
          ]
        }
      ]
    },
    {
      "cell_type": "code",
      "source": [
        "names = ['Liam','Elijah','Bekir','Mahoney']\n",
        "print(names [2]) # Test yourself 3.1 3/4"
      ],
      "metadata": {
        "colab": {
          "base_uri": "https://localhost:8080/"
        },
        "id": "dDxvArUe3N25",
        "outputId": "d2893be4-1190-4501-d9d9-eecd173855e5"
      },
      "execution_count": 5,
      "outputs": [
        {
          "output_type": "stream",
          "name": "stdout",
          "text": [
            "Bekir\n"
          ]
        }
      ]
    },
    {
      "cell_type": "code",
      "source": [
        "names = ['Liam','Elijah','Bekir','Mahoney']\n",
        "print(names [3]) # Test yourself 3.1 4/4"
      ],
      "metadata": {
        "colab": {
          "base_uri": "https://localhost:8080/"
        },
        "id": "CU2_e_kB3TmY",
        "outputId": "a668d267-4a78-42e9-b37d-e369b9ab9893"
      },
      "execution_count": 6,
      "outputs": [
        {
          "output_type": "stream",
          "name": "stdout",
          "text": [
            "Mahoney\n"
          ]
        }
      ]
    },
    {
      "cell_type": "code",
      "source": [
        "names = ['Liam','Elijah','Bekir','Mahoney']\n",
        "message = f\"yo whats up {names[0].title()}.\"\n",
        "print(message) #test yourself 3.2 1/4"
      ],
      "metadata": {
        "colab": {
          "base_uri": "https://localhost:8080/"
        },
        "id": "kFUr8hDuDeIS",
        "outputId": "626161d1-e282-4ddf-ee48-b1e2763470f5"
      },
      "execution_count": 15,
      "outputs": [
        {
          "output_type": "stream",
          "name": "stdout",
          "text": [
            "yo whats up Liam.\n"
          ]
        }
      ]
    },
    {
      "cell_type": "code",
      "source": [
        "names = ['Liam','Elijah','Bekir','Mahoney']\n",
        "message = f\"yo whats up {names[1].title()}.\"\n",
        "print(message) #test yourself 3.2 2/4"
      ],
      "metadata": {
        "colab": {
          "base_uri": "https://localhost:8080/"
        },
        "id": "jKhVbC7tEEco",
        "outputId": "d3de630f-9210-44a1-bd21-61790467ee23"
      },
      "execution_count": 16,
      "outputs": [
        {
          "output_type": "stream",
          "name": "stdout",
          "text": [
            "yo whats up Elijah.\n"
          ]
        }
      ]
    },
    {
      "cell_type": "code",
      "source": [
        "names = ['Liam','Elijah','Bekir','Mahoney']\n",
        "message = f\"yo whats up {names[2].title()}.\"\n",
        "print(message) #test yourself 3.2 3/4"
      ],
      "metadata": {
        "colab": {
          "base_uri": "https://localhost:8080/"
        },
        "id": "R6lvUxbiEHQM",
        "outputId": "e5cb4184-7a2a-4884-dc53-4f99fe688325"
      },
      "execution_count": 18,
      "outputs": [
        {
          "output_type": "stream",
          "name": "stdout",
          "text": [
            "yo whats up Bekir.\n"
          ]
        }
      ]
    },
    {
      "cell_type": "code",
      "source": [
        "names = ['Liam','Elijah','Bekir','Mahoney']\n",
        "message = f\"yo whats up {names[3].title()}.\"\n",
        "print(message) #test yourself 3.2 4/4"
      ],
      "metadata": {
        "colab": {
          "base_uri": "https://localhost:8080/"
        },
        "id": "Po-3jlgLEPAQ",
        "outputId": "7e6509fc-0656-4e1a-a5e3-0516fc9bccf5"
      },
      "execution_count": 20,
      "outputs": [
        {
          "output_type": "stream",
          "name": "stdout",
          "text": [
            "yo whats up Mahoney.\n"
          ]
        }
      ]
    },
    {
      "cell_type": "code",
      "source": [
        "cars = ['car']\n",
        "message = f\"Some day I would like to buy my own {cars[0].title()}.\"\n",
        "print(message) #test yourself 3.3 1/1"
      ],
      "metadata": {
        "colab": {
          "base_uri": "https://localhost:8080/"
        },
        "id": "k1GqMRSKEpgm",
        "outputId": "28df1b49-9bc8-4982-daa7-accf44af699b"
      },
      "execution_count": 22,
      "outputs": [
        {
          "output_type": "stream",
          "name": "stdout",
          "text": [
            "Some day I would like to buy my own Car.\n"
          ]
        }
      ]
    },
    {
      "cell_type": "code",
      "source": [
        "motorcycles = ['honda', 'yamaha', 'suzuki']\n",
        "print(motorcycles)\n",
        "\n",
        "motorcycles[0] = 'ducati'\n",
        "print(motorcycles)"
      ],
      "metadata": {
        "colab": {
          "base_uri": "https://localhost:8080/"
        },
        "id": "goE2qmABFdRR",
        "outputId": "ba2bb10c-1be7-4d79-b768-a224681ae462"
      },
      "execution_count": 25,
      "outputs": [
        {
          "output_type": "stream",
          "name": "stdout",
          "text": [
            "['honda', 'yamaha', 'suzuki']\n",
            "['ducati', 'yamaha', 'suzuki']\n"
          ]
        }
      ]
    },
    {
      "cell_type": "code",
      "source": [
        "motorcycles = []\n",
        "motorcycles.append('honda')\n",
        "motorcycles.append('yamaha')\n",
        "motorcycles.append('suzuki')\n",
        "print(motorcycles)"
      ],
      "metadata": {
        "colab": {
          "base_uri": "https://localhost:8080/"
        },
        "id": "74x-0xemGJET",
        "outputId": "433f9f2e-36d3-4bdf-e820-31ac015e1896"
      },
      "execution_count": 28,
      "outputs": [
        {
          "output_type": "stream",
          "name": "stdout",
          "text": [
            "['honda', 'yamaha', 'suzuki']\n"
          ]
        }
      ]
    },
    {
      "cell_type": "code",
      "source": [
        "motorcycles = ['honda', 'yamaha', 'suzuki']\n",
        "motorcycles.insert(0, 'ducati')\n",
        "print(motorcycles)"
      ],
      "metadata": {
        "colab": {
          "base_uri": "https://localhost:8080/"
        },
        "id": "6Id4sdQHGhc8",
        "outputId": "1fb1d148-ca2e-4144-f03f-431eb661e8cd"
      },
      "execution_count": 29,
      "outputs": [
        {
          "output_type": "stream",
          "name": "stdout",
          "text": [
            "['ducati', 'honda', 'yamaha', 'suzuki']\n"
          ]
        }
      ]
    },
    {
      "cell_type": "code",
      "source": [
        "motorcycles = ['honda', 'yamaha', 'suzuki']\n",
        "print(motorcycles)\n",
        "del motorcycles[0]\n",
        "print(motorcycles)"
      ],
      "metadata": {
        "colab": {
          "base_uri": "https://localhost:8080/"
        },
        "id": "2i-PeYR_HO4Z",
        "outputId": "34d21562-8438-482d-890a-3dd5530189f8"
      },
      "execution_count": 30,
      "outputs": [
        {
          "output_type": "stream",
          "name": "stdout",
          "text": [
            "['honda', 'yamaha', 'suzuki']\n",
            "['yamaha', 'suzuki']\n"
          ]
        }
      ]
    },
    {
      "cell_type": "code",
      "source": [
        "motorcycles = ['honda', 'yamaha', 'suzuki']\n",
        "print(motorcycles)\n",
        "del motorcycles[1]\n",
        "print(motorcycles)"
      ],
      "metadata": {
        "colab": {
          "base_uri": "https://localhost:8080/"
        },
        "id": "cUZew6zkHThZ",
        "outputId": "8f160182-6b66-499c-94d7-862d97888580"
      },
      "execution_count": 31,
      "outputs": [
        {
          "output_type": "stream",
          "name": "stdout",
          "text": [
            "['honda', 'yamaha', 'suzuki']\n",
            "['honda', 'suzuki']\n"
          ]
        }
      ]
    },
    {
      "cell_type": "code",
      "source": [
        " motorcycles = ['honda', 'yamaha', 'suzuki']\n",
        "print(motorcycles)\n",
        " popped_motorcycle = motorcycles.pop()\n",
        " print(motorcycles)\n",
        " print(popped_motorcycle)"
      ],
      "metadata": {
        "colab": {
          "base_uri": "https://localhost:8080/"
        },
        "id": "Qg8t7GKSHq9D",
        "outputId": "8a76b1a7-d848-4532-ee55-327c29169dcf"
      },
      "execution_count": 33,
      "outputs": [
        {
          "output_type": "stream",
          "name": "stdout",
          "text": [
            "['honda', 'yamaha', 'suzuki']\n",
            "['honda', 'yamaha']\n",
            "suzuki\n"
          ]
        }
      ]
    },
    {
      "cell_type": "code",
      "source": [
        "motorcycles = ['honda', 'yamaha', 'suzuki']\n",
        "last_owned = motorcycles.pop()\n",
        "print(f\"The last motorcycle I owned was a {last_owned.title()}.\")"
      ],
      "metadata": {
        "colab": {
          "base_uri": "https://localhost:8080/"
        },
        "id": "qGAvlSWVH9qJ",
        "outputId": "981a5ef6-17b8-49d3-8969-8fdee86c3025"
      },
      "execution_count": 34,
      "outputs": [
        {
          "output_type": "stream",
          "name": "stdout",
          "text": [
            "The last motorcycle I owned was a Suzuki.\n"
          ]
        }
      ]
    },
    {
      "cell_type": "code",
      "source": [
        "motorcycles = ['honda', 'yamaha', 'suzuki']\n",
        "first_owned = motorcycles.pop(0)\n",
        "print(f\"The first motorcycle I owned was a {first_owned.title()}.\")"
      ],
      "metadata": {
        "colab": {
          "base_uri": "https://localhost:8080/"
        },
        "id": "dhUqvx_hIIY9",
        "outputId": "f8e44f9e-d4d3-49b5-d4be-9ce54fd4819c"
      },
      "execution_count": 35,
      "outputs": [
        {
          "output_type": "stream",
          "name": "stdout",
          "text": [
            "The first motorcycle I owned was a Honda.\n"
          ]
        }
      ]
    },
    {
      "cell_type": "code",
      "source": [
        "motorcycles = ['honda', 'yamaha', 'suzuki', 'ducati']\n",
        "print(motorcycles)\n",
        "motorcycles.remove('ducati')\n",
        "print(motorcycles)"
      ],
      "metadata": {
        "colab": {
          "base_uri": "https://localhost:8080/"
        },
        "id": "9_rwex-nIQSj",
        "outputId": "d55e761d-35c2-4b43-ca82-90d374670c46"
      },
      "execution_count": 36,
      "outputs": [
        {
          "output_type": "stream",
          "name": "stdout",
          "text": [
            "['honda', 'yamaha', 'suzuki', 'ducati']\n",
            "['honda', 'yamaha', 'suzuki']\n"
          ]
        }
      ]
    },
    {
      "cell_type": "code",
      "source": [
        "motorcycles = ['honda', 'yamaha', 'suzuki', 'ducati']\n",
        "print(motorcycles)\n",
        "\n",
        "too_expensive = 'ducati'\n",
        "motorcycles.remove(too_expensive)\n",
        "print(motorcycles)\n",
        "print(f\"\\nA {too_expensive.title()} is too expensive for me.\")"
      ],
      "metadata": {
        "colab": {
          "base_uri": "https://localhost:8080/"
        },
        "id": "LcJIZeEJIZkE",
        "outputId": "844cad51-3c0f-4f46-fc1f-40e34902ff28"
      },
      "execution_count": 40,
      "outputs": [
        {
          "output_type": "stream",
          "name": "stdout",
          "text": [
            "['honda', 'yamaha', 'suzuki', 'ducati']\n",
            "['honda', 'yamaha', 'suzuki']\n",
            "\n",
            "A Ducati is too expensive for me.\n"
          ]
        }
      ]
    },
    {
      "cell_type": "code",
      "source": [
        "names = ['John Wick','Spider-Man','Thanos','Monkey']\n",
        "message = f\" Hello this is a invation for dinner, I would see you then {names[0].title()}.\"\n",
        "print(message) #test yourself 3.4 1/3"
      ],
      "metadata": {
        "colab": {
          "base_uri": "https://localhost:8080/"
        },
        "id": "n9qsdkrhJFpK",
        "outputId": "e0367ede-cf97-4e78-db6b-ecd207aa935a"
      },
      "execution_count": 42,
      "outputs": [
        {
          "output_type": "stream",
          "name": "stdout",
          "text": [
            " Hello this is a invation for dinner, I would see you then John Wick.\n"
          ]
        }
      ]
    },
    {
      "cell_type": "code",
      "source": [
        "names = ['John Wick','Spider-Man','Thanos','Monkey']\n",
        "message = f\" Hello this is a invation for dinner, I would see you then {names[1].title()}.\"\n",
        "print(message) #test yourself 3.5 2/3"
      ],
      "metadata": {
        "colab": {
          "base_uri": "https://localhost:8080/"
        },
        "id": "E8IeZey0KcAF",
        "outputId": "03bb4f40-35b7-4290-942a-61c679300940"
      },
      "execution_count": 43,
      "outputs": [
        {
          "output_type": "stream",
          "name": "stdout",
          "text": [
            " Hello this is a invation for dinner, I would see you then Spider-Man.\n"
          ]
        }
      ]
    },
    {
      "cell_type": "code",
      "source": [
        "names = ['John Wick','Spider-Man','Thanos','Monkey']\n",
        "message = f\" Hello this is a invation for dinner, I would see you then {names[2].title()}.\"\n",
        "print(message) #test yourself 3.5 3/3"
      ],
      "metadata": {
        "colab": {
          "base_uri": "https://localhost:8080/"
        },
        "id": "4LSKIM4NKfwv",
        "outputId": "75ae8124-c8f9-4ad2-c7ac-23e78f3de455"
      },
      "execution_count": 44,
      "outputs": [
        {
          "output_type": "stream",
          "name": "stdout",
          "text": [
            " Hello this is a invation for dinner, I would see you then Thanos.\n"
          ]
        }
      ]
    },
    {
      "cell_type": "code",
      "source": [
        "names = ['John Wick','Spider-Man','Thanos','Monkey']\n",
        "message = f\" Hello this is a invation for dinner, I would see you then {names[-1].title()}.\"\n",
        "print(message) #test yourself 3.6\n",
        "\n",
        "print(' sadly Spider-Man couldnt make it')\n",
        "print(' so I invited Bat-Man')\n",
        "print(' people that are still comming are John Wick Thanos and the Monkey')\n",
        "print(' I just found a bigger table for dinner so I am inviting more people')\n",
        "names.insert(5,'Ben' )\n",
        "names.insert(6,'Roman' )\n",
        "names.append('Shaggy')\n",
        "print('List:', names)\n"
      ],
      "metadata": {
        "colab": {
          "base_uri": "https://localhost:8080/"
        },
        "id": "nTWPlHn1KhvC",
        "outputId": "ebe840f8-a5be-4a1f-b706-7f8307728e07"
      },
      "execution_count": 65,
      "outputs": [
        {
          "output_type": "stream",
          "name": "stdout",
          "text": [
            " Hello this is a invation for dinner, I would see you then Monkey.\n",
            " sadly Spider-Man couldnt make it\n",
            " so I invited Bat-Man\n",
            " people that are still comming are John Wick Thanos and the Monkey\n",
            " I just found a bigger table for dinner so I am inviting more people\n",
            "List: ['John Wick', 'Spider-Man', 'Thanos', 'Monkey', 'Ben', 'Roman', 'Shaggy']\n"
          ]
        }
      ]
    },
    {
      "cell_type": "code",
      "source": [
        "names = ['John Wick','Spider-Man','Thanos','Monkey']\n",
        "message = f\" Hello this is a invation for dinner, I would see you then {names[-1].title()}.\"\n",
        "print(message) #test yourself 3.7\n",
        "\n",
        "print(' sadly Monkey couldnt make it')\n",
        "print(' so I invited Bat-Man')\n",
        "print(' people that are still comming are John Wick Thanos and the Monkey')\n",
        "print(' I just found a bigger table for dinner so I am inviting more people')\n",
        "names.insert(5,'Bat-Man' )\n",
        "names.insert(6,'Roman' )\n",
        "names.append('Shaggy')\n",
        "print('List:', names)\n",
        "print('Sorry to say but the new dinner table wont arrive for dinner So I can only invite 2 people')\n",
        "popped_names = names.pop()\n",
        "print(names)\n",
        "print(popped_names)\n",
        "popped_names = names.pop()\n",
        "print(names)\n",
        "print(popped_names)\n",
        "popped_names = names.pop()\n",
        "print(names)\n",
        "print(popped_names)\n",
        "popped_names = names.pop()\n",
        "print(names)\n",
        "print(popped_names)\n",
        "popped_names = names.pop()\n",
        "print(names)\n",
        "print(popped_names)\n",
        "\n",
        "print('John Wick and Spider-Man you guys are still invited to the dinner')\n",
        "del names"
      ],
      "metadata": {
        "colab": {
          "base_uri": "https://localhost:8080/"
        },
        "id": "BPLkqsP3QSd_",
        "outputId": "acf307bd-343f-48b9-b908-d9d5909fefd6"
      },
      "execution_count": 93,
      "outputs": [
        {
          "output_type": "stream",
          "name": "stdout",
          "text": [
            " Hello this is a invation for dinner, I would see you then Monkey.\n",
            " sadly Monkey couldnt make it\n",
            " so I invited Bat-Man\n",
            " people that are still comming are John Wick Thanos and the Monkey\n",
            " I just found a bigger table for dinner so I am inviting more people\n",
            "List: ['John Wick', 'Spider-Man', 'Thanos', 'Monkey', 'Bat-Man', 'Roman', 'Shaggy']\n",
            "Sorry to say but the new dinner table wont arrive for dinner So I can only invite 2 people\n",
            "['John Wick', 'Spider-Man', 'Thanos', 'Monkey', 'Bat-Man', 'Roman']\n",
            "Shaggy\n",
            "['John Wick', 'Spider-Man', 'Thanos', 'Monkey', 'Bat-Man']\n",
            "Roman\n",
            "['John Wick', 'Spider-Man', 'Thanos', 'Monkey']\n",
            "Bat-Man\n",
            "['John Wick', 'Spider-Man', 'Thanos']\n",
            "Monkey\n",
            "['John Wick', 'Spider-Man']\n",
            "Thanos\n",
            "John Wick and Spider-Man you guys are still invited to the dinner\n"
          ]
        }
      ]
    },
    {
      "cell_type": "code",
      "source": [
        "cars = ['bmw', 'audi', 'toyota', 'subaru']\n",
        "cars.sort()\n",
        "print(cars)\n"
      ],
      "metadata": {
        "colab": {
          "base_uri": "https://localhost:8080/"
        },
        "id": "CgZo16ocT5oN",
        "outputId": "9b3bd3e7-3ecc-4be5-8e6b-cf2daa88144e"
      },
      "execution_count": 94,
      "outputs": [
        {
          "output_type": "stream",
          "name": "stdout",
          "text": [
            "['audi', 'bmw', 'subaru', 'toyota']\n"
          ]
        }
      ]
    },
    {
      "cell_type": "code",
      "source": [
        "cars = ['bmw', 'audi', 'toyota', 'subaru']\n",
        "cars.sort(reverse=True)\n",
        "print(cars)"
      ],
      "metadata": {
        "colab": {
          "base_uri": "https://localhost:8080/"
        },
        "id": "yo9p8UbecWDm",
        "outputId": "dee075db-78d8-491d-b779-b1825390e521"
      },
      "execution_count": 95,
      "outputs": [
        {
          "output_type": "stream",
          "name": "stdout",
          "text": [
            "['toyota', 'subaru', 'bmw', 'audi']\n"
          ]
        }
      ]
    },
    {
      "cell_type": "code",
      "source": [
        "cars = ['bmw', 'audi', 'toyota', 'subaru']\n",
        "print(\"Here is the original list:\")\n",
        "print(cars)\n",
        "print(\"\\nHere is the sorted list:\")\n",
        "print(sorted(cars))\n",
        "print(\"\\nHere is the original list again:\")\n",
        "print(cars)"
      ],
      "metadata": {
        "colab": {
          "base_uri": "https://localhost:8080/"
        },
        "id": "dc8JebTachJ1",
        "outputId": "126511e7-2e69-4f8e-dc5b-c462eefd17d8"
      },
      "execution_count": 96,
      "outputs": [
        {
          "output_type": "stream",
          "name": "stdout",
          "text": [
            "Here is the original list:\n",
            "['bmw', 'audi', 'toyota', 'subaru']\n",
            "\n",
            "Here is the sorted list:\n",
            "['audi', 'bmw', 'subaru', 'toyota']\n",
            "\n",
            "Here is the original list again:\n",
            "['bmw', 'audi', 'toyota', 'subaru']\n"
          ]
        }
      ]
    },
    {
      "cell_type": "code",
      "source": [
        "cars = ['bmw', 'audi', 'toyota', 'subaru']\n",
        "print(cars)\n",
        "cars.reverse()\n",
        "print(cars)"
      ],
      "metadata": {
        "colab": {
          "base_uri": "https://localhost:8080/"
        },
        "id": "yv1Z-0KEcwDS",
        "outputId": "618e9ce6-7023-4662-8c58-9d6f3de3c06a"
      },
      "execution_count": 97,
      "outputs": [
        {
          "output_type": "stream",
          "name": "stdout",
          "text": [
            "['bmw', 'audi', 'toyota', 'subaru']\n",
            "['subaru', 'toyota', 'audi', 'bmw']\n"
          ]
        }
      ]
    },
    {
      "cell_type": "code",
      "source": [
        "cars = ['bmw', 'audi', 'toyota', 'subaru']\n",
        "len(cars) #try yourself 3.8"
      ],
      "metadata": {
        "colab": {
          "base_uri": "https://localhost:8080/"
        },
        "id": "SZ0-4HXXc4GI",
        "outputId": "e55a1d64-da72-46b0-d7e7-fa4e6dbc6e5e"
      },
      "execution_count": 99,
      "outputs": [
        {
          "output_type": "execute_result",
          "data": {
            "text/plain": [
              "4"
            ]
          },
          "metadata": {},
          "execution_count": 99
        }
      ]
    },
    {
      "cell_type": "code",
      "source": [
        "places = ['Japan','UK','Argetnina','Iraq','Canada']\n",
        "places.sort()\n",
        "print(places) #try yourself 3.8"
      ],
      "metadata": {
        "colab": {
          "base_uri": "https://localhost:8080/"
        },
        "id": "oWx5_6htdNkh",
        "outputId": "038e6111-be4c-4826-8021-90e14edb3733"
      },
      "execution_count": 105,
      "outputs": [
        {
          "output_type": "stream",
          "name": "stdout",
          "text": [
            "['Argetnina', 'Canada', 'Iraq', 'Japan', 'UK']\n"
          ]
        }
      ]
    },
    {
      "cell_type": "code",
      "source": [
        "places = ['Japan','UK','Argetnina','Iraq','Canada']\n",
        "places.sort(reverse=True)\n",
        "print(places) #try yourself 3.8"
      ],
      "metadata": {
        "colab": {
          "base_uri": "https://localhost:8080/"
        },
        "id": "0Ai5Ii9reVIu",
        "outputId": "e2130920-57d9-4f1c-a0ba-779534b60e69"
      },
      "execution_count": 107,
      "outputs": [
        {
          "output_type": "stream",
          "name": "stdout",
          "text": [
            "['UK', 'Japan', 'Iraq', 'Canada', 'Argetnina']\n"
          ]
        }
      ]
    },
    {
      "cell_type": "code",
      "source": [
        "places = ['Japan','UK','Argetnina','Iraq','Canada']\n",
        "places.sort(reverse=False)\n",
        "print(places) #try yourself 3.8"
      ],
      "metadata": {
        "colab": {
          "base_uri": "https://localhost:8080/"
        },
        "id": "ircF1WiqenUD",
        "outputId": "c032308d-b53b-4014-da3b-83f5daef9ab9"
      },
      "execution_count": 108,
      "outputs": [
        {
          "output_type": "stream",
          "name": "stdout",
          "text": [
            "['Argetnina', 'Canada', 'Iraq', 'Japan', 'UK']\n"
          ]
        }
      ]
    },
    {
      "cell_type": "code",
      "source": [
        "names = ['John Wick','Spider-Man','Thanos','Monkey']\n",
        "message = f\" Hello this is a invation for dinner, I would see you then {names[-1].title()}.\"\n",
        "print(message) #test yourself 3.9\n",
        "\n",
        "print(' sadly Monkey couldnt make it')\n",
        "print(' so I invited Bat-Man')\n",
        "print(' people that are still comming are John Wick Thanos and the Monkey')\n",
        "print(' I just found a bigger table for dinner so I am inviting more people')\n",
        "names.insert(5,'Bat-Man' )\n",
        "names.insert(6,'Roman' )\n",
        "names.append('Shaggy')\n",
        "print('List:', names)\n",
        "print('Sorry to say but the new dinner table wont arrive for dinner So I can only invite 2 people')\n",
        "popped_names = names.pop()\n",
        "print(names)\n",
        "print(popped_names)\n",
        "popped_names = names.pop()\n",
        "print(names)\n",
        "print(popped_names)\n",
        "popped_names = names.pop()\n",
        "print(names)\n",
        "print(popped_names)\n",
        "popped_names = names.pop()\n",
        "print(names)\n",
        "print(popped_names)\n",
        "popped_names = names.pop()\n",
        "print(names)\n",
        "print(popped_names)\n",
        "\n",
        "print('John Wick and Spider-Man you guys are still invited to the dinner')\n",
        "len(names)"
      ],
      "metadata": {
        "colab": {
          "base_uri": "https://localhost:8080/"
        },
        "id": "F71IRfuoe43b",
        "outputId": "d09b8517-a99d-4f92-95cb-0a7c595d9917"
      },
      "execution_count": 111,
      "outputs": [
        {
          "output_type": "stream",
          "name": "stdout",
          "text": [
            " Hello this is a invation for dinner, I would see you then Monkey.\n",
            " sadly Monkey couldnt make it\n",
            " so I invited Bat-Man\n",
            " people that are still comming are John Wick Thanos and the Monkey\n",
            " I just found a bigger table for dinner so I am inviting more people\n",
            "List: ['John Wick', 'Spider-Man', 'Thanos', 'Monkey', 'Bat-Man', 'Roman', 'Shaggy']\n",
            "Sorry to say but the new dinner table wont arrive for dinner So I can only invite 2 people\n",
            "['John Wick', 'Spider-Man', 'Thanos', 'Monkey', 'Bat-Man', 'Roman']\n",
            "Shaggy\n",
            "['John Wick', 'Spider-Man', 'Thanos', 'Monkey', 'Bat-Man']\n",
            "Roman\n",
            "['John Wick', 'Spider-Man', 'Thanos', 'Monkey']\n",
            "Bat-Man\n",
            "['John Wick', 'Spider-Man', 'Thanos']\n",
            "Monkey\n",
            "['John Wick', 'Spider-Man']\n",
            "Thanos\n",
            "John Wick and Spider-Man you guys are still invited to the dinner\n"
          ]
        },
        {
          "output_type": "execute_result",
          "data": {
            "text/plain": [
              "2"
            ]
          },
          "metadata": {},
          "execution_count": 111
        }
      ]
    },
    {
      "cell_type": "code",
      "source": [
        "Liked_places = ['NYC','Hudson River','USA','MT Everest ']\n",
        "message = f\" Hello These are the places in the world that I like.\"\n",
        "print(message)\n",
        "print('List:', Liked_places) #test yourself 3.10"
      ],
      "metadata": {
        "colab": {
          "base_uri": "https://localhost:8080/"
        },
        "id": "8R_iaPQUfYl8",
        "outputId": "27a4bebf-5e70-4544-ba5b-b7873666189d"
      },
      "execution_count": 116,
      "outputs": [
        {
          "output_type": "stream",
          "name": "stdout",
          "text": [
            " Hello These are the places in the world that I like.\n",
            "List: ['NYC', 'Hudson River', 'USA', 'MT Everest ']\n"
          ]
        }
      ]
    },
    {
      "cell_type": "code",
      "source": [
        "Liked_places = ['NYC','Hudson River','USA','MT Everest ']\n",
        "message = f\" Hello These are the places in the world that I like.\"\n",
        "Liked_places.sort()\n",
        "print(message)\n",
        "print('List:', Liked_places) #test yourself 3.10"
      ],
      "metadata": {
        "colab": {
          "base_uri": "https://localhost:8080/"
        },
        "id": "77PrF7TyhHqw",
        "outputId": "47ece3f0-83f6-4630-9dae-80c4c6c03cd7"
      },
      "execution_count": 118,
      "outputs": [
        {
          "output_type": "stream",
          "name": "stdout",
          "text": [
            " Hello These are the places in the world that I like.\n",
            "List: ['Hudson River', 'MT Everest ', 'NYC', 'USA']\n"
          ]
        }
      ]
    },
    {
      "cell_type": "code",
      "source": [
        "Liked_places = ['NYC','Hudson River','USA','MT Everest ']\n",
        "message = f\" Hello These are the places in the world that I like.\"\n",
        "Liked_places.sort(reverse=True)\n",
        "print(message)\n",
        "print('List:', Liked_places) #test yourself 3.10"
      ],
      "metadata": {
        "colab": {
          "base_uri": "https://localhost:8080/"
        },
        "id": "mnoigJR0hUOL",
        "outputId": "bce5dbc0-33d2-4e42-f7d2-c9057822ab3b"
      },
      "execution_count": 119,
      "outputs": [
        {
          "output_type": "stream",
          "name": "stdout",
          "text": [
            " Hello These are the places in the world that I like.\n",
            "List: ['USA', 'NYC', 'MT Everest ', 'Hudson River']\n"
          ]
        }
      ]
    },
    {
      "cell_type": "code",
      "source": [
        "Liked_places = ['NYC','Hudson River','USA','MT Everest ']\n",
        "message = f\" Hello These are the places in the world that I like.\"\n",
        "Liked_places.sort(reverse=True)\n",
        "print(message)\n",
        "print('List:', Liked_places) #test yourself 3.10\n",
        "popped_names = Liked_places.pop()\n",
        "print(Liked_places)\n",
        "print(popped_names)"
      ],
      "metadata": {
        "colab": {
          "base_uri": "https://localhost:8080/"
        },
        "id": "J5u8gMy0hZbh",
        "outputId": "59cc48d8-cbbf-4565-a12d-ca436f887ca1"
      },
      "execution_count": 120,
      "outputs": [
        {
          "output_type": "stream",
          "name": "stdout",
          "text": [
            " Hello These are the places in the world that I like.\n",
            "List: ['USA', 'NYC', 'MT Everest ', 'Hudson River']\n",
            "['USA', 'NYC', 'MT Everest ']\n",
            "Hudson River\n"
          ]
        }
      ]
    },
    {
      "cell_type": "code",
      "source": [
        "#Print the cubes of all of the integers that are a multiple of 7 between 60 and 85\n",
        "\n",
        "print(*range(7, 60, 85))\n",
        "res = [i for i in range(7, 60, 85)]\n",
        "\n",
        "print(res)\n",
        "\n"
      ],
      "metadata": {
        "colab": {
          "base_uri": "https://localhost:8080/"
        },
        "id": "pupHLDnMiLO6",
        "outputId": "2d35ba06-8b33-45ee-e8bb-ee9e8d97f44c"
      },
      "execution_count": 124,
      "outputs": [
        {
          "output_type": "stream",
          "name": "stdout",
          "text": [
            "7\n",
            "[7]\n"
          ]
        }
      ]
    },
    {
      "cell_type": "code",
      "source": [
        "# Define the equation y = 7.4x + 51\n",
        "def calculate_y(x):\n",
        "    return 7.4 * x + 51\n",
        "\n",
        "# List of values for x\n",
        "x_values = [40, 50, 120, -8, 6]\n",
        "\n",
        "# Calculate y for each value of x\n",
        "y_values = [calculate_y(x) for x in x_values]\n",
        "\n",
        "# Print the results\n",
        "for x, y in zip(x_values, y_values):\n",
        "    print(f\"For x = {x}, y = {y}\")\n"
      ],
      "metadata": {
        "colab": {
          "base_uri": "https://localhost:8080/"
        },
        "id": "-jWMYNBmjM6H",
        "outputId": "0a4d5b82-d967-4f51-d026-82589bc23322"
      },
      "execution_count": 125,
      "outputs": [
        {
          "output_type": "stream",
          "name": "stdout",
          "text": [
            "For x = 40, y = 347.0\n",
            "For x = 50, y = 421.0\n",
            "For x = 120, y = 939.0\n",
            "For x = -8, y = -8.200000000000003\n",
            "For x = 6, y = 95.4\n"
          ]
        }
      ]
    }
  ]
}