{
  "nbformat": 4,
  "nbformat_minor": 0,
  "metadata": {
    "colab": {
      "provenance": [],
      "name": "Assignment 8ipynb",
      "authorship_tag": "ABX9TyPyjI1/9qqmeH1c7SBpvkAK",
      "include_colab_link": true
    },
    "kernelspec": {
      "name": "python3",
      "display_name": "Python 3"
    },
    "language_info": {
      "name": "python"
    }
  },
  "cells": [
    {
      "cell_type": "markdown",
      "metadata": {
        "id": "view-in-github",
        "colab_type": "text"
      },
      "source": [
        "<a href=\"https://colab.research.google.com/github/headphonegato/CSC221_jsanm001/blob/main/Assignment_8ipynb.ipynb\" target=\"_parent\"><img src=\"https://colab.research.google.com/assets/colab-badge.svg\" alt=\"Open In Colab\"/></a>"
      ]
    },
    {
      "cell_type": "code",
      "execution_count": null,
      "metadata": {
        "colab": {
          "base_uri": "https://localhost:8080/"
        },
        "id": "_oCUQNrBg0gE",
        "outputId": "1bc5a783-b521-4a57-e869-092ff59be686"
      },
      "outputs": [
        {
          "output_type": "stream",
          "name": "stdout",
          "text": [
            "What kind of car would you like to get today? lambo\n",
            "Let me see if I can find you a Lambo.\n"
          ]
        }
      ],
      "source": [
        "car = input(\"What kind of car would you like to get today? \")\n",
        "\n",
        "print(f\"Let me see if I can find you a {car.title()}.\")\n",
        "#try yourself 7.1"
      ]
    },
    {
      "cell_type": "code",
      "source": [
        "party_size = input(\"How many people are going to the  dinner party tonight? \")\n",
        "party_size = int(party_size)\n",
        "\n",
        "if party_size > 8:\n",
        "    print(\"I'm sorry, you'll have to wait for a table.\")\n",
        "else:\n",
        "    print(\"Your table is ready.\")\n",
        "\n",
        "    #try yourself 7.3"
      ],
      "metadata": {
        "colab": {
          "base_uri": "https://localhost:8080/"
        },
        "id": "vhKQ25Pv1KCh",
        "outputId": "c877449b-607a-4728-d2ee-ace35839c687"
      },
      "execution_count": null,
      "outputs": [
        {
          "output_type": "stream",
          "name": "stdout",
          "text": [
            "How many people are going to the  dinner party tonight? 8\n",
            "Your table is ready.\n"
          ]
        }
      ]
    },
    {
      "cell_type": "code",
      "source": [
        "question = \"How old are you?\"\n",
        "question2 = \"\\nEnter 'quit' when you are finished. \"\n",
        "\n",
        "while True:\n",
        "    age = input(question)\n",
        "    if age == 'quit':\n",
        "        break\n",
        "    age = int(age)\n",
        "\n",
        "    if age < 3:\n",
        "        print(\"  You get in free!\")\n",
        "    elif age < 13:\n",
        "        print(\"  Your ticket is $10.\")\n",
        "    else:\n",
        "        print(\"  Your ticket is $15.\")\n",
        "\n",
        "\n",
        "        #try yourself 7.5"
      ],
      "metadata": {
        "colab": {
          "base_uri": "https://localhost:8080/"
        },
        "id": "2R8pfgUv2fJE",
        "outputId": "445bd729-f7a3-4186-bc34-27475a3fca02"
      },
      "execution_count": null,
      "outputs": [
        {
          "name": "stdout",
          "output_type": "stream",
          "text": [
            "How old are you?quit\n"
          ]
        }
      ]
    },
    {
      "cell_type": "code",
      "source": [
        "question = \"This game is 18+ to make sure you are old enought tell us ur age?\"\n",
        "question2 = \"\\nEnter 'quit' when you are finished. \"\n",
        "\n",
        "while True:\n",
        "    age = input(question)\n",
        "    if age == 'quit':\n",
        "        break\n",
        "    age = int(age)\n",
        "\n",
        "    if age < 18:\n",
        "        print(\" you are way to young to buy this game  \")\n",
        "    else:\n",
        "      age > 19\n",
        "      print(\"  you are old enough to buy this game.\")\n",
        "\n",
        "      #try yourself 7.6"
      ],
      "metadata": {
        "colab": {
          "base_uri": "https://localhost:8080/"
        },
        "id": "6OFswwy_3obX",
        "outputId": "151049d3-02e8-4de9-88bf-5f8585d883fa"
      },
      "execution_count": null,
      "outputs": [
        {
          "name": "stdout",
          "output_type": "stream",
          "text": [
            "This game is 18+ to make sure you are old enought tell us ur age?quit\n"
          ]
        }
      ]
    },
    {
      "cell_type": "code",
      "source": [
        "sandwich_orders = ['Chicken Cutlet', 'grilled cheese', 'Ham', 'roast beef']\n",
        "finished_sandwiches = []\n",
        "\n",
        "while sandwich_orders:\n",
        "    current_sandwich = sandwich_orders.pop()\n",
        "    print(f\"I'm working on your {current_sandwich} sandwich as we speak.\")\n",
        "    finished_sandwiches.append(current_sandwich)\n",
        "\n",
        "print(\"\\n\")\n",
        "for sandwich in finished_sandwiches:\n",
        "    print(f\"I made a {sandwich} sandwich.\") #try yourself 7.8"
      ],
      "metadata": {
        "colab": {
          "base_uri": "https://localhost:8080/"
        },
        "id": "Cam3s1VU6lHv",
        "outputId": "1243a301-a8a0-4177-aea6-4b2e2cee8cc8"
      },
      "execution_count": null,
      "outputs": [
        {
          "output_type": "stream",
          "name": "stdout",
          "text": [
            "I'm working on your roast beef sandwich as we speak.\n",
            "I'm working on your Ham sandwich as we speak.\n",
            "I'm working on your grilled cheese sandwich as we speak.\n",
            "I'm working on your Chicken Cutlet sandwich as we speak.\n",
            "\n",
            "\n",
            "I made a roast beef sandwich.\n",
            "I made a Ham sandwich.\n",
            "I made a grilled cheese sandwich.\n",
            "I made a Chicken Cutlet sandwich.\n"
          ]
        }
      ]
    },
    {
      "cell_type": "code",
      "source": [
        "number1 = float(input(\"Please insert your first number: \"))\n",
        "answer = input(\"Input the sign of operation +,-,*,/: \")\n",
        "number2 = float(input(\"Please insert your second number: \"))\n",
        "if answer == \"+\":\n",
        "  print(number1 + number2)\n",
        "elif answer == \"-\":\n",
        "  print(number1 - number2)\n",
        "elif answer == \"*\":\n",
        "  print(number1 * number2)\n",
        "elif answer == \"/\":\n",
        "  print(number1/number2)\n",
        "else:\n",
        "  print(\"Invalid operator\") # caculator\n",
        "\n",
        "  #note this took a while to do :D"
      ],
      "metadata": {
        "colab": {
          "base_uri": "https://localhost:8080/"
        },
        "id": "6KsN51F370Yw",
        "outputId": "0de40f63-dc11-4d28-e65a-9e49b8c24112"
      },
      "execution_count": null,
      "outputs": [
        {
          "output_type": "stream",
          "name": "stdout",
          "text": [
            "Please input your first number: 23\n",
            "Input the sign of operation +,-,*,/: +\n",
            "Please input your second number: 23\n",
            "46.0\n"
          ]
        }
      ]
    }
  ]
}